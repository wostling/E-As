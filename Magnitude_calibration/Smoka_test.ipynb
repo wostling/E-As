{
 "cells": [
  {
   "cell_type": "code",
   "execution_count": 1,
   "id": "67de4524",
   "metadata": {},
   "outputs": [],
   "source": [
    "import matplotlib.pyplot as plt\n",
    "\n",
    "from astropy.wcs import WCS\n",
    "from astropy.io import fits\n",
    "from astropy.utils.data import get_pkg_data_filename\n",
    "%matplotlib qt\n",
    "\n",
    "import pandas as pd\n",
    "import numpy as np\n",
    "from astropy.io import fits\n",
    "import astropy\n",
    "import math\n",
    "import matplotlib.pyplot as plt\n",
    "from matplotlib.colors import LogNorm\n",
    "import colorcet as cc\n",
    "from acstools import acszpt\n",
    "from astropy.table import Table"
   ]
  },
  {
   "cell_type": "code",
   "execution_count": 7,
   "id": "7855fce2",
   "metadata": {},
   "outputs": [],
   "source": [
    "hdu = fits.open(\"C:/Users/willi/Desktop/Hubble Data/P03wostling1104084853NN/light/SUPA00473482.fits\")[0]"
   ]
  },
  {
   "cell_type": "code",
   "execution_count": 8,
   "id": "2e3353a4",
   "metadata": {},
   "outputs": [
    {
     "name": "stderr",
     "output_type": "stream",
     "text": [
      "WARNING: FITSFixedWarning: PC001001= 0.00000000 / Pixel Coordinate translation matrix \n",
      "this form of the PCi_ja keyword is deprecated, use PCi_ja. [astropy.wcs.wcs]\n",
      "WARNING:astropy:FITSFixedWarning: PC001001= 0.00000000 / Pixel Coordinate translation matrix \n",
      "this form of the PCi_ja keyword is deprecated, use PCi_ja.\n",
      "WARNING: FITSFixedWarning: PC001002= -1.00000000 / Pixel Coordinate translation matrix \n",
      "this form of the PCi_ja keyword is deprecated, use PCi_ja. [astropy.wcs.wcs]\n",
      "WARNING:astropy:FITSFixedWarning: PC001002= -1.00000000 / Pixel Coordinate translation matrix \n",
      "this form of the PCi_ja keyword is deprecated, use PCi_ja.\n",
      "WARNING: FITSFixedWarning: PC002001= 1.00000000 / Pixel Coordinate translation matrix \n",
      "this form of the PCi_ja keyword is deprecated, use PCi_ja. [astropy.wcs.wcs]\n",
      "WARNING:astropy:FITSFixedWarning: PC002001= 1.00000000 / Pixel Coordinate translation matrix \n",
      "this form of the PCi_ja keyword is deprecated, use PCi_ja.\n",
      "WARNING: FITSFixedWarning: PC002002= 0.00000000 / Pixel Coordinate translation matrix \n",
      "this form of the PCi_ja keyword is deprecated, use PCi_ja. [astropy.wcs.wcs]\n",
      "WARNING:astropy:FITSFixedWarning: PC002002= 0.00000000 / Pixel Coordinate translation matrix \n",
      "this form of the PCi_ja keyword is deprecated, use PCi_ja.\n",
      "WARNING: FITSFixedWarning: RADECSYS= 'FK5 ' / The equatorial coordinate system \n",
      "the RADECSYS keyword is deprecated, use RADESYSa. [astropy.wcs.wcs]\n",
      "WARNING:astropy:FITSFixedWarning: RADECSYS= 'FK5 ' / The equatorial coordinate system \n",
      "the RADECSYS keyword is deprecated, use RADESYSa.\n",
      "WARNING: FITSFixedWarning: 'datfix' made the change 'Set MJD-OBS to 53853.000000 from DATE-OBS.\n",
      "Set DATE-END to '2006-04-28T07:05:14.266' from MJD-END'. [astropy.wcs.wcs]\n",
      "WARNING:astropy:FITSFixedWarning: 'datfix' made the change 'Set MJD-OBS to 53853.000000 from DATE-OBS.\n",
      "Set DATE-END to '2006-04-28T07:05:14.266' from MJD-END'.\n",
      "WARNING: FITSFixedWarning: 'unitfix' made the change 'Changed units:\n",
      "  'degree' -> 'deg',\n",
      "  'degree' -> 'deg'. [astropy.wcs.wcs]\n",
      "WARNING:astropy:FITSFixedWarning: 'unitfix' made the change 'Changed units:\n",
      "  'degree' -> 'deg',\n",
      "  'degree' -> 'deg'.\n"
     ]
    }
   ],
   "source": [
    "wcs = WCS(hdu.header)"
   ]
  },
  {
   "cell_type": "code",
   "execution_count": null,
   "id": "0397bcc7",
   "metadata": {},
   "outputs": [],
   "source": []
  },
  {
   "cell_type": "code",
   "execution_count": 9,
   "id": "2f7ec339",
   "metadata": {},
   "outputs": [],
   "source": [
    "plt.subplot(projection=wcs)\n",
    "plt.imshow(hdu.data,  norm=LogNorm(), origin='lower')\n",
    "plt.grid(color='white', ls='solid')\n",
    "plt.xlabel('Galactic Longitude')\n",
    "plt.ylabel('Galactic Latitude')"
   ]
  },
  {
   "cell_type": "code",
   "execution_count": null,
   "id": "6e15ade9",
   "metadata": {},
   "outputs": [],
   "source": []
  },
  {
   "cell_type": "code",
   "execution_count": 10,
   "id": "8faa6ce3",
   "metadata": {},
   "outputs": [
    {
     "name": "stderr",
     "output_type": "stream",
     "text": [
      "WARNING: AstropyDeprecationWarning: block_reduce was moved to the astropy.nddata.blocks module.  Please update your import statement. [astropy.nddata.utils]\n",
      "WARNING:astropy:AstropyDeprecationWarning: block_reduce was moved to the astropy.nddata.blocks module.  Please update your import statement.\n"
     ]
    }
   ],
   "source": [
    "import aplpy"
   ]
  },
  {
   "cell_type": "code",
   "execution_count": 12,
   "id": "17860c71",
   "metadata": {},
   "outputs": [
    {
     "name": "stderr",
     "output_type": "stream",
     "text": [
      "WARNING: FITSFixedWarning: PC001001= 0.00000000 / Pixel Coordinate translation matrix \n",
      "this form of the PCi_ja keyword is deprecated, use PCi_ja. [astropy.wcs.wcs]\n",
      "WARNING:astropy:FITSFixedWarning: PC001001= 0.00000000 / Pixel Coordinate translation matrix \n",
      "this form of the PCi_ja keyword is deprecated, use PCi_ja.\n",
      "WARNING: FITSFixedWarning: PC001002= -1.00000000 / Pixel Coordinate translation matrix \n",
      "this form of the PCi_ja keyword is deprecated, use PCi_ja. [astropy.wcs.wcs]\n",
      "WARNING:astropy:FITSFixedWarning: PC001002= -1.00000000 / Pixel Coordinate translation matrix \n",
      "this form of the PCi_ja keyword is deprecated, use PCi_ja.\n",
      "WARNING: FITSFixedWarning: PC002001= 1.00000000 / Pixel Coordinate translation matrix \n",
      "this form of the PCi_ja keyword is deprecated, use PCi_ja. [astropy.wcs.wcs]\n",
      "WARNING:astropy:FITSFixedWarning: PC002001= 1.00000000 / Pixel Coordinate translation matrix \n",
      "this form of the PCi_ja keyword is deprecated, use PCi_ja.\n",
      "WARNING: FITSFixedWarning: PC002002= 0.00000000 / Pixel Coordinate translation matrix \n",
      "this form of the PCi_ja keyword is deprecated, use PCi_ja. [astropy.wcs.wcs]\n",
      "WARNING:astropy:FITSFixedWarning: PC002002= 0.00000000 / Pixel Coordinate translation matrix \n",
      "this form of the PCi_ja keyword is deprecated, use PCi_ja.\n",
      "WARNING: FITSFixedWarning: RADECSYS= 'FK5 ' / The equatorial coordinate system \n",
      "the RADECSYS keyword is deprecated, use RADESYSa. [astropy.wcs.wcs]\n",
      "WARNING:astropy:FITSFixedWarning: RADECSYS= 'FK5 ' / The equatorial coordinate system \n",
      "the RADECSYS keyword is deprecated, use RADESYSa.\n",
      "WARNING: FITSFixedWarning: 'datfix' made the change 'Set MJD-OBS to 53853.000000 from DATE-OBS.\n",
      "Set DATE-END to '2006-04-28T07:05:14.266' from MJD-END'. [astropy.wcs.wcs]\n",
      "WARNING:astropy:FITSFixedWarning: 'datfix' made the change 'Set MJD-OBS to 53853.000000 from DATE-OBS.\n",
      "Set DATE-END to '2006-04-28T07:05:14.266' from MJD-END'.\n",
      "WARNING: FITSFixedWarning: 'unitfix' made the change 'Changed units:\n",
      "  'degree' -> 'deg',\n",
      "  'degree' -> 'deg'. [astropy.wcs.wcs]\n",
      "WARNING:astropy:FITSFixedWarning: 'unitfix' made the change 'Changed units:\n",
      "  'degree' -> 'deg',\n",
      "  'degree' -> 'deg'.\n"
     ]
    }
   ],
   "source": [
    "f = aplpy.FITSFigure(\"C:/Users/willi/Desktop/Hubble Data/P03wostling1104084853NN/light/SUPA00473482.fits\")"
   ]
  },
  {
   "cell_type": "code",
   "execution_count": 13,
   "id": "8583674e",
   "metadata": {},
   "outputs": [
    {
     "name": "stderr",
     "output_type": "stream",
     "text": [
      "INFO:astropy:Auto-setting vmin to  9.546e+03\n",
      "INFO:astropy:Auto-setting vmax to  1.463e+04\n"
     ]
    },
    {
     "name": "stdout",
     "output_type": "stream",
     "text": [
      "INFO: Auto-setting vmin to  9.546e+03 [aplpy.core]\n",
      "INFO: Auto-setting vmax to  1.463e+04 [aplpy.core]\n"
     ]
    }
   ],
   "source": [
    "f.show_grayscale()"
   ]
  },
  {
   "cell_type": "code",
   "execution_count": 14,
   "id": "6827b61b",
   "metadata": {},
   "outputs": [
    {
     "name": "stderr",
     "output_type": "stream",
     "text": [
      "WARNING: FITSFixedWarning: PC001001= 0.00000000 / Pixel Coordinate translation matrix \n",
      "this form of the PCi_ja keyword is deprecated, use PCi_ja. [astropy.wcs.wcs]\n",
      "WARNING:astropy:FITSFixedWarning: PC001001= 0.00000000 / Pixel Coordinate translation matrix \n",
      "this form of the PCi_ja keyword is deprecated, use PCi_ja.\n",
      "WARNING: FITSFixedWarning: PC001002= -1.00000000 / Pixel Coordinate translation matrix \n",
      "this form of the PCi_ja keyword is deprecated, use PCi_ja. [astropy.wcs.wcs]\n",
      "WARNING:astropy:FITSFixedWarning: PC001002= -1.00000000 / Pixel Coordinate translation matrix \n",
      "this form of the PCi_ja keyword is deprecated, use PCi_ja.\n",
      "WARNING: FITSFixedWarning: PC002001= 1.00000000 / Pixel Coordinate translation matrix \n",
      "this form of the PCi_ja keyword is deprecated, use PCi_ja. [astropy.wcs.wcs]\n",
      "WARNING:astropy:FITSFixedWarning: PC002001= 1.00000000 / Pixel Coordinate translation matrix \n",
      "this form of the PCi_ja keyword is deprecated, use PCi_ja.\n",
      "WARNING: FITSFixedWarning: PC002002= 0.00000000 / Pixel Coordinate translation matrix \n",
      "this form of the PCi_ja keyword is deprecated, use PCi_ja. [astropy.wcs.wcs]\n",
      "WARNING:astropy:FITSFixedWarning: PC002002= 0.00000000 / Pixel Coordinate translation matrix \n",
      "this form of the PCi_ja keyword is deprecated, use PCi_ja.\n",
      "WARNING: FITSFixedWarning: RADECSYS= 'FK5 ' / The equatorial coordinate system \n",
      "the RADECSYS keyword is deprecated, use RADESYSa. [astropy.wcs.wcs]\n",
      "WARNING:astropy:FITSFixedWarning: RADECSYS= 'FK5 ' / The equatorial coordinate system \n",
      "the RADECSYS keyword is deprecated, use RADESYSa.\n",
      "WARNING: FITSFixedWarning: 'datfix' made the change 'Set MJD-OBS to 53853.000000 from DATE-OBS.\n",
      "Set DATE-END to '2006-04-28T07:36:18.259' from MJD-END'. [astropy.wcs.wcs]\n",
      "WARNING:astropy:FITSFixedWarning: 'datfix' made the change 'Set MJD-OBS to 53853.000000 from DATE-OBS.\n",
      "Set DATE-END to '2006-04-28T07:36:18.259' from MJD-END'.\n",
      "WARNING: FITSFixedWarning: 'unitfix' made the change 'Changed units:\n",
      "  'degree' -> 'deg',\n",
      "  'degree' -> 'deg'. [astropy.wcs.wcs]\n",
      "WARNING:astropy:FITSFixedWarning: 'unitfix' made the change 'Changed units:\n",
      "  'degree' -> 'deg',\n",
      "  'degree' -> 'deg'.\n",
      "INFO:astropy:Auto-setting vmin to  9.633e+03\n",
      "INFO:astropy:Auto-setting vmax to  1.367e+04\n"
     ]
    },
    {
     "name": "stdout",
     "output_type": "stream",
     "text": [
      "INFO: Auto-setting vmin to  9.633e+03 [aplpy.core]\n",
      "INFO: Auto-setting vmax to  1.367e+04 [aplpy.core]\n"
     ]
    }
   ],
   "source": [
    "f1 = aplpy.FITSFigure(\"C:/Users/willi/Desktop/Hubble Data/P03wostling1104084853NN/light/SUPA00473492.fits\")\n",
    "f1.show_grayscale()"
   ]
  }
 ],
 "metadata": {
  "kernelspec": {
   "display_name": "Python 3",
   "language": "python",
   "name": "python3"
  },
  "language_info": {
   "codemirror_mode": {
    "name": "ipython",
    "version": 3
   },
   "file_extension": ".py",
   "mimetype": "text/x-python",
   "name": "python",
   "nbconvert_exporter": "python",
   "pygments_lexer": "ipython3",
   "version": "3.8.8"
  }
 },
 "nbformat": 4,
 "nbformat_minor": 5
}
