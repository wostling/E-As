{
 "cells": [
  {
   "cell_type": "code",
   "execution_count": 1,
   "id": "497a1256",
   "metadata": {},
   "outputs": [],
   "source": [
    "import pandas as pd\n",
    "import numpy as np\n",
    "from astropy.io import fits\n",
    "import astropy\n",
    "import math\n",
    "import matplotlib.pyplot as plt\n",
    "from matplotlib.colors import LogNorm\n",
    "import colorcet as cc\n",
    "from acstools import acszpt\n",
    "from astropy.table import Table\n",
    "%matplotlib qt\n"
   ]
  },
  {
   "cell_type": "code",
   "execution_count": 2,
   "id": "dc383da1",
   "metadata": {},
   "outputs": [],
   "source": [
    "#m = -2.5 x log10(DN / EXPTIME) + ZEROPOINT"
   ]
  },
  {
   "cell_type": "markdown",
   "id": "b0a65e15",
   "metadata": {},
   "source": [
    "WFC3"
   ]
  },
  {
   "cell_type": "code",
   "execution_count": 3,
   "id": "b3ce9a1b",
   "metadata": {},
   "outputs": [
    {
     "name": "stdout",
     "output_type": "stream",
     "text": [
      "Filename: C:/Users/willi/Desktop/Hubble Data/candidates/2/h_v75_F814W_ivm_drz_cl_ver2.fits\n",
      "No.    Name      Ver    Type      Cards   Dimensions   Format\n",
      "  0  PRIMARY       1 PrimaryHDU     503   ()      \n",
      "  1  SCI           1 ImageHDU       179   (4225, 4300)   float32   \n",
      "  2  WHT           1 ImageHDU        71   (4225, 4300)   float32   \n",
      "  3  CTX           1 ImageHDU        71   (4225, 4300)   int32   \n"
     ]
    }
   ],
   "source": [
    "#import image data\n",
    "image_data_w814_fireball, header_w814_fireball = fits.getdata(\"C:/Users/willi/Desktop/Hubble Data/candidates/2/h_v75_F814W_ivm_drz_cl_ver2.fits\", header=True)\n",
    "image_data_w475_fireball, header_w475_fireball = fits.getdata(\"C:/Users/willi/Desktop/Hubble Data/candidates/2/h_v75_F475W_ivm_drz_cl_ver2.fits\", header=True)\n",
    "\n",
    "#get full fits file\n",
    "hdu_list = fits.open(\"C:/Users/willi/Desktop/Hubble Data/candidates/2/h_v75_F814W_ivm_drz_cl_ver2.fits\")\n",
    "image_data = hdu_list[1].data\n",
    "hdu_list.info()"
   ]
  },
  {
   "cell_type": "code",
   "execution_count": 4,
   "id": "5b257246",
   "metadata": {},
   "outputs": [
    {
     "data": {
      "text/plain": [
       "array([[-0.01948908, -0.06138653,  0.00473011, ...,  0.        ,\n",
       "         0.        ,  0.        ],\n",
       "       [ 0.01288939, -0.01733125,  0.01123847, ...,  0.        ,\n",
       "         0.        ,  0.        ],\n",
       "       [-0.02398009,  0.01929787,  0.00155553, ...,  0.        ,\n",
       "         0.        ,  0.        ],\n",
       "       ...,\n",
       "       [ 0.        ,  0.        ,  0.        , ..., -0.00296626,\n",
       "         0.00758985,  0.        ],\n",
       "       [ 0.        ,  0.        ,  0.        , ..., -0.00940749,\n",
       "         0.02341227,  0.        ],\n",
       "       [ 0.        ,  0.        ,  0.        , ...,  0.01901661,\n",
       "         0.02487982,  0.        ]], dtype=float32)"
      ]
     },
     "execution_count": 4,
     "metadata": {},
     "output_type": "execute_result"
    }
   ],
   "source": [
    "image_data_w814_fireball"
   ]
  },
  {
   "cell_type": "code",
   "execution_count": 8,
   "id": "6168c91e",
   "metadata": {},
   "outputs": [],
   "source": [
    "i = []\n",
    "for char in image_data_w814_fireball:\n",
    "    i.append(min(char))"
   ]
  },
  {
   "cell_type": "code",
   "execution_count": 10,
   "id": "5896036f",
   "metadata": {},
   "outputs": [
    {
     "data": {
      "text/plain": [
       "-0.3722971"
      ]
     },
     "execution_count": 10,
     "metadata": {},
     "output_type": "execute_result"
    }
   ],
   "source": [
    "min(i)"
   ]
  },
  {
   "cell_type": "code",
   "execution_count": 11,
   "id": "657d7cf9",
   "metadata": {},
   "outputs": [],
   "source": [
    "image_data_w814_fireball = image_data_w814_fireball + 0.3722971"
   ]
  },
  {
   "cell_type": "code",
   "execution_count": 12,
   "id": "953a7483",
   "metadata": {
    "scrolled": true
   },
   "outputs": [
    {
     "data": {
      "text/plain": [
       "<matplotlib.colorbar.Colorbar at 0x270cc757220>"
      ]
     },
     "execution_count": 12,
     "metadata": {},
     "output_type": "execute_result"
    }
   ],
   "source": [
    "#display plot of data using a log scale\n",
    "plt.imshow(image_data_w814_fireball, cmap= \"Blues\", interpolation = \"nearest\", norm=LogNorm())\n",
    "plt.colorbar()"
   ]
  },
  {
   "cell_type": "code",
   "execution_count": 13,
   "id": "356d76fd",
   "metadata": {},
   "outputs": [],
   "source": [
    "date = '2007-05-08'\n",
    "detector = 'WFC'"
   ]
  },
  {
   "cell_type": "code",
   "execution_count": 14,
   "id": "9056646b",
   "metadata": {},
   "outputs": [
    {
     "name": "stderr",
     "output_type": "stream",
     "text": [
      "INFO:acszpt.Query:Checking inputs...\n",
      "INFO:acszpt.Query:Submitting request to https://acszeropoints.stsci.edu/results_single/?date1=2007-05-08&detector=WFC&WFC_filter=F814W\n",
      "INFO:acszpt.Query:Parsing the response and formatting the results...\n",
      "INFO:acszpt.Query:Checking inputs...\n",
      "INFO:acszpt.Query:Submitting request to https://acszeropoints.stsci.edu/results_single/?date1=2007-05-08&detector=WFC&WFC_filter=F475W\n",
      "INFO:acszpt.Query:Parsing the response and formatting the results...\n"
     ]
    }
   ],
   "source": [
    "#queary zeropoints\n",
    "q814 = acszpt.Query(date=date, detector=detector, filt = \"F814W\")                                    \n",
    "filter_zpt814 = q814.fetch()\n",
    "\n",
    "q475 = acszpt.Query(date=date, detector=detector, filt = \"F475W\")                                    \n",
    "filter_zpt475 = q475.fetch()\n",
    "\n"
   ]
  },
  {
   "cell_type": "code",
   "execution_count": 15,
   "id": "8a12caa7",
   "metadata": {},
   "outputs": [
    {
     "name": "stdout",
     "output_type": "stream",
     "text": [
      "FILTER PHOTPLAM        PHOTFLAM         STmag  VEGAmag  ABmag \n",
      "       Angstrom erg / (Angstrom cm2 s) mag(ST)   mag   mag(AB)\n",
      "------ -------- ---------------------- ------- ------- -------\n",
      " F814W   8045.3              7.137e-20  26.766  25.503   25.93\n",
      "FILTER PHOTPLAM        PHOTFLAM         STmag  VEGAmag  ABmag \n",
      "       Angstrom erg / (Angstrom cm2 s) mag(ST)   mag   mag(AB)\n",
      "------ -------- ---------------------- ------- ------- -------\n",
      " F475W   4747.5              1.852e-19  25.731  26.133  26.041\n"
     ]
    }
   ],
   "source": [
    "print(filter_zpt814)\n",
    "print(filter_zpt475)"
   ]
  },
  {
   "cell_type": "code",
   "execution_count": 16,
   "id": "638d371e",
   "metadata": {},
   "outputs": [
    {
     "name": "stderr",
     "output_type": "stream",
     "text": [
      "<ipython-input-16-d0dec94f65b6>:2: RuntimeWarning: divide by zero encountered in log10\n",
      "  m_ab_w_814_fireball = (-2.5 * np.log10(image_data_w814_fireball)) + filter_zpt814['ABmag'][0].value\n",
      "<ipython-input-16-d0dec94f65b6>:4: RuntimeWarning: divide by zero encountered in log10\n",
      "  m_ab_w_475_fireball = (-2.5 * np.log10(image_data_w475_fireball)) + filter_zpt475['ABmag'][0].value\n",
      "<ipython-input-16-d0dec94f65b6>:4: RuntimeWarning: invalid value encountered in log10\n",
      "  m_ab_w_475_fireball = (-2.5 * np.log10(image_data_w475_fireball)) + filter_zpt475['ABmag'][0].value\n"
     ]
    }
   ],
   "source": [
    "#convert to AB mag\n",
    "m_ab_w_814_fireball = (-2.5 * np.log10(image_data_w814_fireball)) + filter_zpt814['ABmag'][0].value\n",
    "\n",
    "m_ab_w_475_fireball = (-2.5 * np.log10(image_data_w475_fireball)) + filter_zpt475['ABmag'][0].value"
   ]
  },
  {
   "cell_type": "code",
   "execution_count": 17,
   "id": "909d0d68",
   "metadata": {
    "scrolled": false
   },
   "outputs": [
    {
     "data": {
      "text/plain": [
       "array([[      nan, 30.541595, 31.79977 , ...,       inf,       inf,\n",
       "              inf],\n",
       "       [32.98281 , 30.889114, 31.943262, ...,       inf,       inf,\n",
       "              inf],\n",
       "       [31.755981, 32.24063 , 32.156128, ...,       inf,       inf,\n",
       "              inf],\n",
       "       ...,\n",
       "       [      inf,       inf,       inf, ..., 30.608961, 31.046036,\n",
       "              inf],\n",
       "       [      inf,       inf,       inf, ..., 30.778755, 32.771294,\n",
       "              inf],\n",
       "       [      inf,       inf,       inf, ..., 30.8269  ,       nan,\n",
       "              inf]], dtype=float32)"
      ]
     },
     "execution_count": 17,
     "metadata": {},
     "output_type": "execute_result"
    }
   ],
   "source": [
    "m_ab_w_475_fireball"
   ]
  },
  {
   "cell_type": "code",
   "execution_count": 18,
   "id": "4ce0c798",
   "metadata": {},
   "outputs": [],
   "source": [
    "m_ab_w_814_fireball_array = np.where(m_ab_w_814_fireball == np.inf, np.nan, m_ab_w_814_fireball)\n",
    "m_ab_w_475_fireball_array = np.where(m_ab_w_475_fireball == np.inf, np.nan, m_ab_w_475_fireball)"
   ]
  },
  {
   "cell_type": "code",
   "execution_count": 19,
   "id": "f3b5414e",
   "metadata": {},
   "outputs": [
    {
     "name": "stdout",
     "output_type": "stream",
     "text": [
      "[[27.061153 27.198412 26.989069 ... 27.002777 27.002777 27.002777]\n",
      " [26.965822 27.054533 26.970486 ... 27.002777 27.002777 27.002777]\n",
      " [27.075064 26.947906 26.99825  ... 27.002777 27.002777 27.002777]\n",
      " ...\n",
      " [27.002777 27.002777 27.002777 ... 27.011461 26.980864 27.002777]\n",
      " [27.002777 27.002777 27.002777 ... 27.030563 26.93656  27.002777]\n",
      " [27.002777 27.002777 27.002777 ... 26.948689 26.93254  27.002777]]\n"
     ]
    }
   ],
   "source": [
    "print(m_ab_w_814_fireball_array)"
   ]
  },
  {
   "cell_type": "code",
   "execution_count": 20,
   "id": "cb16eff3",
   "metadata": {},
   "outputs": [],
   "source": [
    "subtract_coma = m_ab_w_475_fireball_array - m_ab_w_814_fireball_array"
   ]
  },
  {
   "cell_type": "code",
   "execution_count": 21,
   "id": "4174938b",
   "metadata": {},
   "outputs": [
    {
     "data": {
      "text/plain": [
       "<matplotlib.colorbar.Colorbar at 0x270c5785160>"
      ]
     },
     "execution_count": 21,
     "metadata": {},
     "output_type": "execute_result"
    }
   ],
   "source": [
    "plt.imshow(m_ab_w_814_fireball_array , interpolation = \"nearest\", cmap= \"Blues\")\n",
    "plt.clim(21,32)#for wide\n",
    "#plt.clim(25.5,30.5)#for core\n",
    "#plt.clim(-1,2) #for subtract\n",
    "#plt.clim(-1,1) #for subtract core\n",
    "plt.colorbar()"
   ]
  },
  {
   "cell_type": "markdown",
   "id": "4dbbe7fb",
   "metadata": {},
   "source": [
    "Using photutils for photometry"
   ]
  },
  {
   "cell_type": "code",
   "execution_count": 15,
   "id": "1ba6d9bc",
   "metadata": {},
   "outputs": [],
   "source": [
    "from photutils.aperture import CircularAperture"
   ]
  },
  {
   "cell_type": "code",
   "execution_count": 16,
   "id": "70886724",
   "metadata": {},
   "outputs": [],
   "source": [
    "positions = [(30., 30.), (40., 40.)]\n",
    "aperture = CircularAperture(positions, r=3.)"
   ]
  },
  {
   "cell_type": "code",
   "execution_count": 17,
   "id": "6be0c006",
   "metadata": {},
   "outputs": [
    {
     "data": {
      "text/plain": [
       "<CircularAperture([[30., 30.],\n",
       "                   [40., 40.]], r=3.0)>"
      ]
     },
     "execution_count": 17,
     "metadata": {},
     "output_type": "execute_result"
    }
   ],
   "source": [
    "aperture"
   ]
  },
  {
   "cell_type": "code",
   "execution_count": null,
   "id": "0fdcf845",
   "metadata": {},
   "outputs": [],
   "source": []
  },
  {
   "cell_type": "code",
   "execution_count": null,
   "id": "dd6e7c59",
   "metadata": {},
   "outputs": [],
   "source": []
  },
  {
   "cell_type": "code",
   "execution_count": null,
   "id": "9cc2b38b",
   "metadata": {},
   "outputs": [],
   "source": []
  },
  {
   "cell_type": "markdown",
   "id": "f5b20c6a",
   "metadata": {},
   "source": [
    "WFPC2"
   ]
  },
  {
   "cell_type": "code",
   "execution_count": 37,
   "id": "d633cc2f",
   "metadata": {
    "scrolled": true
   },
   "outputs": [
    {
     "name": "stderr",
     "output_type": "stream",
     "text": [
      "<ipython-input-37-e132a3b8b280>:9: RuntimeWarning: divide by zero encountered in log10\n",
      "  m_ab_450 = -2.5 * np.log10(image_data_w450_spikes) + zp_ab_450\n",
      "<ipython-input-37-e132a3b8b280>:9: RuntimeWarning: invalid value encountered in log10\n",
      "  m_ab_450 = -2.5 * np.log10(image_data_w450_spikes) + zp_ab_450\n",
      "<ipython-input-37-e132a3b8b280>:10: RuntimeWarning: divide by zero encountered in log10\n",
      "  m_ab_814 = -2.5 * np.log10(image_data_w814_spikes) + zp_ab_814\n",
      "<ipython-input-37-e132a3b8b280>:10: RuntimeWarning: invalid value encountered in log10\n",
      "  m_ab_814 = -2.5 * np.log10(image_data_w814_spikes) + zp_ab_814\n",
      "<ipython-input-37-e132a3b8b280>:12: RuntimeWarning: invalid value encountered in subtract\n",
      "  subtract = m_ab_450 - m_ab_814\n"
     ]
    }
   ],
   "source": [
    "image_data_w814_spikes, header_w814_spikes = fits.getdata(\"C:/Users/willi/Desktop/Hubble Data/candidates/1/hst_06773_03_wfpc2_f814w_pc_sci.fits\", header=True)\n",
    "image_data_w450_spikes, header_w450_spikes = fits.getdata(\"C:/Users/willi/Desktop/Hubble Data/candidates/1/hst_06773_03_wfpc2_f450w_pc_sci.fits\", header=True)\n",
    "\n",
    "#ZPAB=−2.5∗log10(PHOTFLAM)−5∗log10(PHOTPLAM)−2.408\n",
    "\n",
    "zp_ab_450 = (-2.5 * np.log10(1.267181601123595 * (10**-18))) - (5 * np.log10(4557.367)) - 2.408\n",
    "zp_ab_814 = (-2.5 * np.log10(3.522445224719101 * (10**-19))) - (5 * np.log10(7995.943)) - 2.408\n",
    "\n",
    "m_ab_450 = -2.5 * np.log10(image_data_w450_spikes) + zp_ab_450\n",
    "m_ab_814 = -2.5 * np.log10(image_data_w814_spikes) + zp_ab_814\n",
    "\n",
    "subtract = m_ab_450 - m_ab_814"
   ]
  },
  {
   "cell_type": "code",
   "execution_count": 19,
   "id": "122b31bf",
   "metadata": {},
   "outputs": [
    {
     "data": {
      "text/plain": [
       "XTENSION= 'IMAGE   '           / Image extension                                \n",
       "BITPIX  =                  -32 / array data type                                \n",
       "NAXIS   =                    2 / number of array dimensions                     \n",
       "NAXIS1  =                 1000                                                  \n",
       "NAXIS2  =                 1000                                                  \n",
       "PCOUNT  =                    0 / number of parameters                           \n",
       "GCOUNT  =                    1 / number of groups                               \n",
       "CRVAL1  =    195.4994698105556 / right ascension of reference pixel (deg)       \n",
       "CRVAL2  =    27.78257197472222 / declination of reference pixel (deg)           \n",
       "CRPIX1  =                500.0 / x-coordinate of reference pixel                \n",
       "CRPIX2  =                500.0 / y-coordinate of reference pixel                \n",
       "CD1_1   = -1.388888888888889E-05 / partial of the right ascension w.r.t. x      \n",
       "CD1_2   =                  0.0 / partial of the right ascension w.r.t. y        \n",
       "CD2_1   =                  0.0 / partial of the declination w.r.t. x            \n",
       "CD2_2   = 1.388888888888889E-05 / partial of the declination w.r.t. y           \n",
       "DATAMIN =            -216.2402 / minimum value of the data                      \n",
       "DATAMAX =             17591.62 / maximum value of the data                      \n",
       "VAFACTOR=                  1.0 / velocity aberration plate scale factor         \n",
       "MIR_REVR=                    T / is the image mirror reversed?                  \n",
       "ORIENTAT=                  0.0 / orientation of the image (deg)                 \n",
       "FILLCNT =                    0 / number of segments containing fill             \n",
       "ERRCNT  =                    0 / number of segments containing errors           \n",
       "FPKTTIME=         50641.541634 / time of the first packet (Modified Julian Date)\n",
       "LPKTTIME=         50641.541801 / time of the last packet (Modified Julian Date) \n",
       "CTYPE1  = 'RA---TAN'           / first coordinate type                          \n",
       "CTYPE2  = 'DEC--TAN'           / second coordinate type                         \n",
       "DETECTOR=                    1 / CCD detector: PC 1, WFC 2-4                    \n",
       "DEZERO  =             315.3207 / mean bias level from EED extended register     \n",
       "BIASEVEN=             315.3538 / bias level for even-numbered columns           \n",
       "BIASODD =             315.2876 / bias level for odd-numbered columns            \n",
       "BIASEVNU=                    0 / uncorrected bias level for even-numbered column\n",
       "BIASODDU=                    0 / uncorrected bias level for odd-numbered columns\n",
       "GOODMIN =            -12.72901 / minimum value of the \"good\" pixels             \n",
       "GOODMAX =             2709.121 / maximum value of the \"good\" pixels             \n",
       "DATAMEAN=             1.877201 / mean value of the \"good\" pixels                \n",
       "GPIXELS =               553716 / number of \"good\" pixels (DQF = 0)              \n",
       "SOFTERRS=                    0 / number of \"soft error\" pixels (DQF = 1)        \n",
       "CALIBDEF=                82406 / number of \"calibration defect\" pixels (DQF = 2)\n",
       "STATICD =                    0 / number of \"static defect\" pixels (DQF = 4)     \n",
       "ATODSAT =                    3 / number of \"AtoD saturated\" pixels (DQF = 8)    \n",
       "DATALOST=                    0 / number of \"data lost\" pixels (DQF = 16)        \n",
       "BADPIXEL=                    0 / number of \"generic bad\" pixels (DQF = 32)      \n",
       "OVERLAP =                    0 / number of \"image overlap\" pixels (DQF = 64)    \n",
       "PHOTMODE= 'WFPC2,1,A2D7,F814W,,CAL                         ' / Photometry mode  \n",
       "PHOTFLAM= 3.522445224719101E-19 / Inverse Sensitivity                           \n",
       "PHOTZPT =                -21.1 / Zero point                                     \n",
       "PHOTPLAM=             7995.943 / Pivot wavelength                               \n",
       "PHOTBW  =             646.1177 / RMS bandwidth of the filter                    \n",
       "MEDIAN  =            0.9804413 / middle data value when good qual pixels sorted \n",
       "MEDSHADO=               1.9377 / median pixel value in shadow of pyramid edge   \n",
       "HISTWIDE=             1.713916 / width of the histogram                         \n",
       "SKEWNESS=         -0.002700669 / skewness of the histogram                      \n",
       "MEANC10 =              4.59588 / mean of a 10x10 region at center of chip       \n",
       "MEANC25 =             5.684044 / mean of a 25x25 region at center of chip       \n",
       "MEANC50 =             6.493269 / mean of a 50x50 region at center of chip       \n",
       "MEANC100=             8.091895 / mean of a 100x100 region at center of chip     \n",
       "MEANC200=             6.845718 / mean of a 200x200 region at center of chip     \n",
       "MEANC300=             4.404259 / mean of a 300x300 region at center of chip     \n",
       "BACKGRND=             1.093434 / estimated background level                     \n",
       "ZP_CORR =          0.004229563 / delta magnitude induced by UV contamination    \n",
       "CTE_1E2 =                    0 / expected delta mag from CTE for 100 e- PSF     \n",
       "CTE_1E3 =                    0 / expected delta mag from CTE for 1000 e- PSF    \n",
       "CTE_1E4 =                    0 / expected delta mag from CTE for 10000 e- PSF   \n",
       "EXTNAME = 'SCI     '           / extension name                                 \n",
       "EXPNAME = 'u39d0303m'          / 9 character exposure identifier                \n",
       "EXTVER  =                    1 / extension version number                       \n",
       "INHERIT =                    T / inherit the primary header                     \n",
       "ROOTNAME= 'u39d0303m'          / rootname of the observation set                \n",
       "OCRVAL1 =       195.5004166667 / right ascension of reference pixel (deg)       \n",
       "OCRVAL2 =       27.78233333333 / declination of reference pixel (deg)           \n",
       "OCRPIX2 =                424.5 / y-coordinate of reference pixel                \n",
       "OCRPIX1 =                  420 / x-coordinate of reference pixel                \n",
       "ONAXIS2 =                  800                                                  \n",
       "ONAXIS1 =                  800                                                  \n",
       "OCD2_2  =         -1.11514E-05 / partial of the declination w.r.t. y            \n",
       "OCD2_1  =          5.95555E-06 / partial of the declination w.r.t. x            \n",
       "OORIENTA=    151.9059298447204 / orientation of the image (deg)                 \n",
       "OCTYPE1 = 'RA---TAN'           / first coordinate type                          \n",
       "OCD1_1  =          1.11566E-05 / partial of the right ascension w.r.t. x        \n",
       "OCD1_2  =          5.95281E-06 / partial of the right ascension w.r.t. y        \n",
       "OCTYPE2 = 'DEC--TAN'           / second coordinate type                         \n",
       "WCSCDATE= '21:45:53 (12/12/2009)' / Time WCS keywords were copied.              \n",
       "OCX10   = 2.277449942466774E-07                                                 \n",
       "OCX11   =             0.045549                                                  \n",
       "OCY10   =  0.04555355565583706                                                  \n",
       "OCY11   = 5.196685210615396E-05                                                 \n",
       "BUNIT   = 'COUNTS/S'           / Units of science product                       \n",
       "O_CRVAL1=          195.4999636                                                  \n",
       "O_CRVAL2=          27.78251345                                                  \n",
       "G_CRVAL1=    195.4995333833333 / GSC2 CRVAL1                                    \n",
       "G_CRVAL2=    27.78255715333333 / GSC2 CRVAL2                                    \n",
       "G_DRA   =             -1.54878 / GSC2 delta RA in arcsec                        \n",
       "G_DDEC  =             0.157332 / GSC2 delta DEC in arcsec                       \n",
       "G_RMSRA =              0.24484 / GSC2 rms in arcsec                             \n",
       "G_RMSDEC=             0.224193 / GSC2 rms in arcsec                             \n",
       "G_NMATCH=                   14 / GSC2 number of sources                         \n",
       "S_CRVAL1=    195.4994698105556 / SDSS CRVAL1                                    \n",
       "S_CRVAL2=    27.78257197472222 / SDSS CRVAL2                                    \n",
       "S_DRA   =            -1.777642 / SDSS delta RA in arcsec                        \n",
       "S_DDEC  =             0.210689 / SDSS delta DEC in arcsec                       \n",
       "S_RMSRA =  0.08923399999999999 / SDSS rms in arcsec                             \n",
       "S_RMSDEC=             0.137167 / SDSS rms in arcsec                             \n",
       "S_NMATCH=                   28 / SDSS number of sources                         \n",
       "T_CRVAL1=          195.4999636 / 2MASS CRVAL1                                   \n",
       "T_CRVAL2=          27.78251345 / 2MASS CRVAL2                                   \n",
       "T_DRA   =                  0.0 / 2MASS delta in arcsec                          \n",
       "T_DDEC  =                  0.0 / 2MASS delta in arcsec                          \n",
       "T_RMSRA =                  0.0 / 2MASS rms in arcsec                            \n",
       "T_RMSDEC=                  0.0 / 2MASS rms in arcsec                            \n",
       "T_NMATCH=                    0 / 2MASS number of sources                        "
      ]
     },
     "execution_count": 19,
     "metadata": {},
     "output_type": "execute_result"
    }
   ],
   "source": [
    "header_w814_spikes"
   ]
  },
  {
   "cell_type": "code",
   "execution_count": 38,
   "id": "43f64ea9",
   "metadata": {},
   "outputs": [
    {
     "data": {
      "text/plain": [
       "<matplotlib.colorbar.Colorbar at 0x1dec11a3ee0>"
      ]
     },
     "execution_count": 38,
     "metadata": {},
     "output_type": "execute_result"
    }
   ],
   "source": [
    "plt.imshow(m_ab_450, cmap= \"Blues\", interpolation = \"nearest\")\n",
    "#plt.clim(22,30) #all\n",
    "plt.clim(23.5,27) #spikes\n",
    "\n",
    "plt.colorbar()"
   ]
  },
  {
   "cell_type": "code",
   "execution_count": 40,
   "id": "c9eaf266",
   "metadata": {},
   "outputs": [
    {
     "data": {
      "text/plain": [
       "<matplotlib.colorbar.Colorbar at 0x1deb092a0d0>"
      ]
     },
     "execution_count": 40,
     "metadata": {},
     "output_type": "execute_result"
    }
   ],
   "source": [
    "plt.imshow(subtract, cmap= \"Blues\", interpolation = \"nearest\")\n",
    "plt.clim(-.3,2)\n",
    "plt.colorbar()"
   ]
  },
  {
   "cell_type": "code",
   "execution_count": 25,
   "id": "9469882f",
   "metadata": {},
   "outputs": [
    {
     "data": {
      "text/plain": [
       "<matplotlib.colorbar.Colorbar at 0x1deb9580be0>"
      ]
     },
     "execution_count": 25,
     "metadata": {},
     "output_type": "execute_result"
    }
   ],
   "source": [
    "plt.imshow(image_data_w814_spikes, cmap= \"Blues\", interpolation = \"nearest\", norm=LogNorm())\n",
    "plt.colorbar()"
   ]
  }
 ],
 "metadata": {
  "kernelspec": {
   "display_name": "Python 3",
   "language": "python",
   "name": "python3"
  },
  "language_info": {
   "codemirror_mode": {
    "name": "ipython",
    "version": 3
   },
   "file_extension": ".py",
   "mimetype": "text/x-python",
   "name": "python",
   "nbconvert_exporter": "python",
   "pygments_lexer": "ipython3",
   "version": "3.8.8"
  }
 },
 "nbformat": 4,
 "nbformat_minor": 5
}
