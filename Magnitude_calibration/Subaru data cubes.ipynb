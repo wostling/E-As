{
 "cells": [
  {
   "cell_type": "code",
   "execution_count": 1,
   "id": "4aa4c74b",
   "metadata": {},
   "outputs": [],
   "source": [
    "import numpy as np\n",
    "import matplotlib.pyplot as plt\n",
    "from matplotlib.colors import LogNorm\n",
    "\n",
    "import astropy.units as u\n",
    "from astropy.utils.data import download_file\n",
    "from astropy.io import fits  # We use fits to open the actual data file\n",
    "\n",
    "from astropy.utils import data\n",
    "data.conf.remote_timeout = 60\n",
    "\n",
    "from spectral_cube import SpectralCube\n",
    "\n",
    "from astroquery.esasky import ESASky\n",
    "from astroquery.utils import TableList\n",
    "from astropy.wcs import WCS\n",
    "from reproject import reproject_interp"
   ]
  },
  {
   "cell_type": "code",
   "execution_count": 2,
   "id": "fd6824dc",
   "metadata": {},
   "outputs": [],
   "source": [
    "import pandas as pd\n",
    "import numpy as np\n",
    "from astropy.io import fits\n",
    "import astropy\n",
    "import math\n",
    "import matplotlib.pyplot as plt\n",
    "from matplotlib.colors import LogNorm\n",
    "import colorcet as cc\n",
    "from acstools import acszpt\n",
    "from astropy.table import Table\n",
    "%matplotlib qt"
   ]
  },
  {
   "cell_type": "code",
   "execution_count": 5,
   "id": "1add4a4e",
   "metadata": {},
   "outputs": [],
   "source": [
    "blue_data = fits.open(\"C:/Users/willi/Desktop/Hubble Data/subaru_calibrated/blue.fits\")  # Open the FITS file for reading\n",
    "red_data = fits.open(\"C:/Users/willi/Desktop/Hubble Data/subaru_calibrated/red.fits\") "
   ]
  },
  {
   "cell_type": "code",
   "execution_count": 6,
   "id": "ef130404",
   "metadata": {},
   "outputs": [],
   "source": [
    "import astroalign as aa"
   ]
  },
  {
   "cell_type": "code",
   "execution_count": 7,
   "id": "17ecb973",
   "metadata": {},
   "outputs": [
    {
     "ename": "TypeError",
     "evalue": "Input type for source not supported.",
     "output_type": "error",
     "traceback": [
      "\u001b[1;31m---------------------------------------------------------------------------\u001b[0m",
      "\u001b[1;31mTypeError\u001b[0m                                 Traceback (most recent call last)",
      "\u001b[1;32m~\\anaconda3\\lib\\site-packages\\astroalign.py\u001b[0m in \u001b[0;36mfind_transform\u001b[1;34m(source, target, max_control_points, detection_sigma, min_area)\u001b[0m\n\u001b[0;32m    284\u001b[0m     \u001b[1;32mtry\u001b[0m\u001b[1;33m:\u001b[0m\u001b[1;33m\u001b[0m\u001b[1;33m\u001b[0m\u001b[0m\n\u001b[1;32m--> 285\u001b[1;33m         \u001b[1;32mif\u001b[0m \u001b[0mlen\u001b[0m\u001b[1;33m(\u001b[0m\u001b[0m_data\u001b[0m\u001b[1;33m(\u001b[0m\u001b[0msource\u001b[0m\u001b[1;33m)\u001b[0m\u001b[1;33m[\u001b[0m\u001b[1;36m0\u001b[0m\u001b[1;33m]\u001b[0m\u001b[1;33m)\u001b[0m \u001b[1;33m==\u001b[0m \u001b[1;36m2\u001b[0m\u001b[1;33m:\u001b[0m\u001b[1;33m\u001b[0m\u001b[1;33m\u001b[0m\u001b[0m\n\u001b[0m\u001b[0;32m    286\u001b[0m             \u001b[1;31m# Assume it's a list of (x, y) pairs\u001b[0m\u001b[1;33m\u001b[0m\u001b[1;33m\u001b[0m\u001b[1;33m\u001b[0m\u001b[0m\n",
      "\u001b[1;31mTypeError\u001b[0m: object of type 'PrimaryHDU' has no len()",
      "\nDuring handling of the above exception, another exception occurred:\n",
      "\u001b[1;31mTypeError\u001b[0m                                 Traceback (most recent call last)",
      "\u001b[1;32m<ipython-input-7-e45277bad379>\u001b[0m in \u001b[0;36m<module>\u001b[1;34m\u001b[0m\n\u001b[1;32m----> 1\u001b[1;33m \u001b[0mtransf\u001b[0m\u001b[1;33m,\u001b[0m \u001b[1;33m(\u001b[0m\u001b[0msource_list\u001b[0m\u001b[1;33m,\u001b[0m \u001b[0mtarget_list\u001b[0m\u001b[1;33m)\u001b[0m  \u001b[1;33m=\u001b[0m \u001b[0maa\u001b[0m\u001b[1;33m.\u001b[0m\u001b[0mfind_transform\u001b[0m\u001b[1;33m(\u001b[0m\u001b[0mblue_data\u001b[0m\u001b[1;33m,\u001b[0m \u001b[0mred_data\u001b[0m\u001b[1;33m,\u001b[0m \u001b[0mmax_control_points\u001b[0m\u001b[1;33m=\u001b[0m\u001b[1;36m5\u001b[0m\u001b[1;33m)\u001b[0m\u001b[1;33m\u001b[0m\u001b[1;33m\u001b[0m\u001b[0m\n\u001b[0m",
      "\u001b[1;32m~\\anaconda3\\lib\\site-packages\\astroalign.py\u001b[0m in \u001b[0;36mfind_transform\u001b[1;34m(source, target, max_control_points, detection_sigma, min_area)\u001b[0m\n\u001b[0;32m    294\u001b[0m             )[:max_control_points]\n\u001b[0;32m    295\u001b[0m     \u001b[1;32mexcept\u001b[0m \u001b[0mException\u001b[0m\u001b[1;33m:\u001b[0m\u001b[1;33m\u001b[0m\u001b[1;33m\u001b[0m\u001b[0m\n\u001b[1;32m--> 296\u001b[1;33m         \u001b[1;32mraise\u001b[0m \u001b[0mTypeError\u001b[0m\u001b[1;33m(\u001b[0m\u001b[1;34m\"Input type for source not supported.\"\u001b[0m\u001b[1;33m)\u001b[0m\u001b[1;33m\u001b[0m\u001b[1;33m\u001b[0m\u001b[0m\n\u001b[0m\u001b[0;32m    297\u001b[0m \u001b[1;33m\u001b[0m\u001b[0m\n\u001b[0;32m    298\u001b[0m     \u001b[1;32mtry\u001b[0m\u001b[1;33m:\u001b[0m\u001b[1;33m\u001b[0m\u001b[1;33m\u001b[0m\u001b[0m\n",
      "\u001b[1;31mTypeError\u001b[0m: Input type for source not supported."
     ]
    }
   ],
   "source": [
    "transf, (source_list, target_list)  = aa.find_transform(blue_data[1], red_data[1], max_control_points=5)"
   ]
  }
 ],
 "metadata": {
  "kernelspec": {
   "display_name": "Python 3",
   "language": "python",
   "name": "python3"
  },
  "language_info": {
   "codemirror_mode": {
    "name": "ipython",
    "version": 3
   },
   "file_extension": ".py",
   "mimetype": "text/x-python",
   "name": "python",
   "nbconvert_exporter": "python",
   "pygments_lexer": "ipython3",
   "version": "3.8.8"
  }
 },
 "nbformat": 4,
 "nbformat_minor": 5
}
