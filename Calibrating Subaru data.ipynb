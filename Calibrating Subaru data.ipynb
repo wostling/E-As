{
 "cells": [
  {
   "cell_type": "code",
   "execution_count": null,
   "id": "e00c1cd6",
   "metadata": {},
   "outputs": [],
   "source": [
    "#stack flat frames - ask for settings (median/percentile clipping)\n",
    "#calibrate light frames through division\n",
    "#weighting/normalization - ask Dr. Liu\n",
    "#align images\n",
    "#stacking - (average? or use clipping)\n",
    "#drizzle stack? to avoid interpolation"
   ]
  },
  {
   "cell_type": "code",
   "execution_count": 3,
   "id": "fad50bfd",
   "metadata": {},
   "outputs": [],
   "source": []
  },
  {
   "cell_type": "code",
   "execution_count": 2,
   "id": "d1981c61",
   "metadata": {},
   "outputs": [],
   "source": [
    "import matplotlib.pyplot as plt\n",
    "\n",
    "from astropy.wcs import WCS\n",
    "from astropy.io import fits\n",
    "from astropy.utils.data import get_pkg_data_filename\n",
    "%matplotlib qt\n",
    "\n",
    "import pandas as pd\n",
    "import numpy as np\n",
    "from astropy.io import fits\n",
    "import astropy\n",
    "import math\n",
    "import matplotlib.pyplot as plt\n",
    "from matplotlib.colors import LogNorm\n",
    "import colorcet as cc\n",
    "from acstools import acszpt\n",
    "from astropy.table import Table\n",
    "import pandas as pd\n",
    "import numpy as np\n",
    "from astropy.io import fits\n",
    "import astropy\n",
    "import math\n",
    "import matplotlib.pyplot as plt\n",
    "from matplotlib.colors import LogNorm\n",
    "import colorcet as cc\n",
    "from acstools import acszpt\n",
    "from astropy.table import Table"
   ]
  },
  {
   "cell_type": "code",
   "execution_count": 6,
   "id": "6473338c",
   "metadata": {},
   "outputs": [],
   "source": [
    "import aplpy"
   ]
  },
  {
   "cell_type": "code",
   "execution_count": 7,
   "id": "c9041ce1",
   "metadata": {},
   "outputs": [
    {
     "name": "stderr",
     "output_type": "stream",
     "text": [
      "WARNING: FITSFixedWarning: 'datfix' made the change 'Set DATE-OBS to '2006-04-28' from MJD-OBS'. [astropy.wcs.wcs]\n",
      "WARNING:astropy:FITSFixedWarning: 'datfix' made the change 'Set DATE-OBS to '2006-04-28' from MJD-OBS'.\n",
      "WARNING: FITSFixedWarning: 'unitfix' made the change 'Changed units:\n",
      "  'degree' -> 'deg',\n",
      "  'degree' -> 'deg'. [astropy.wcs.wcs]\n",
      "WARNING:astropy:FITSFixedWarning: 'unitfix' made the change 'Changed units:\n",
      "  'degree' -> 'deg',\n",
      "  'degree' -> 'deg'.\n"
     ]
    }
   ],
   "source": [
    "f = aplpy.FITSFigure(\"C:/Users/willi/Desktop/Hubble Data/supreme_data/SUPM19E9B88002F20500.fits/SUPM19E9B88002F20500.fits\")"
   ]
  },
  {
   "cell_type": "code",
   "execution_count": 8,
   "id": "a77b68f1",
   "metadata": {},
   "outputs": [
    {
     "name": "stderr",
     "output_type": "stream",
     "text": [
      "INFO:astropy:Auto-setting vmin to -3.623e+04\n",
      "INFO:astropy:Auto-setting vmax to  5.617e+03\n"
     ]
    },
    {
     "name": "stdout",
     "output_type": "stream",
     "text": [
      "INFO: Auto-setting vmin to -3.623e+04 [aplpy.core]\n",
      "INFO: Auto-setting vmax to  5.617e+03 [aplpy.core]\n"
     ]
    }
   ],
   "source": [
    "f.show_grayscale()"
   ]
  },
  {
   "cell_type": "code",
   "execution_count": 5,
   "id": "2eddbdcf",
   "metadata": {},
   "outputs": [],
   "source": [
    "image, header = fits.getdata(\"C:/Users/willi/Desktop/Hubble Data/supreme_data/SUPM19E9B88002F20500.fits/SUPM19E9B88002F20500.fits\", header=True)"
   ]
  },
  {
   "cell_type": "code",
   "execution_count": 1,
   "id": "18f2b6d3",
   "metadata": {},
   "outputs": [
    {
     "ename": "NameError",
     "evalue": "name 'plt' is not defined",
     "output_type": "error",
     "traceback": [
      "\u001b[1;31m---------------------------------------------------------------------------\u001b[0m",
      "\u001b[1;31mNameError\u001b[0m                                 Traceback (most recent call last)",
      "\u001b[1;32m<ipython-input-1-f6b16a7bebd6>\u001b[0m in \u001b[0;36m<module>\u001b[1;34m\u001b[0m\n\u001b[1;32m----> 1\u001b[1;33m \u001b[0mplt\u001b[0m\u001b[1;33m.\u001b[0m\u001b[0mimshow\u001b[0m\u001b[1;33m(\u001b[0m\u001b[0mimage\u001b[0m\u001b[1;33m,\u001b[0m \u001b[0mcmap\u001b[0m\u001b[1;33m=\u001b[0m \u001b[1;34m\"Blues\"\u001b[0m\u001b[1;33m,\u001b[0m \u001b[0minterpolation\u001b[0m \u001b[1;33m=\u001b[0m \u001b[1;34m\"nearest\"\u001b[0m\u001b[1;33m,\u001b[0m \u001b[0mnorm\u001b[0m\u001b[1;33m=\u001b[0m\u001b[0mLogNorm\u001b[0m\u001b[1;33m(\u001b[0m\u001b[1;33m)\u001b[0m\u001b[1;33m)\u001b[0m\u001b[1;33m\u001b[0m\u001b[1;33m\u001b[0m\u001b[0m\n\u001b[0m\u001b[0;32m      2\u001b[0m \u001b[0mplt\u001b[0m\u001b[1;33m.\u001b[0m\u001b[0mcolorbar\u001b[0m\u001b[1;33m(\u001b[0m\u001b[1;33m)\u001b[0m\u001b[1;33m\u001b[0m\u001b[1;33m\u001b[0m\u001b[0m\n",
      "\u001b[1;31mNameError\u001b[0m: name 'plt' is not defined"
     ]
    }
   ],
   "source": [
    "\n",
    "plt.imshow(image, cmap= \"Blues\", interpolation = \"nearest\", norm=LogNorm())\n",
    "plt.colorbar()"
   ]
  },
  {
   "cell_type": "code",
   "execution_count": 7,
   "id": "61123bc7",
   "metadata": {},
   "outputs": [
    {
     "data": {
      "text/plain": [
       "SIMPLE  =                    T / This is a FITS file                            \n",
       "BITPIX  =                  -32 /                                                \n",
       "NAXIS   =                    2 /                                                \n",
       "NAXIS1  =                 7490 / Axis length                                    \n",
       "NAXIS2  =                 7490 / Axis length                                    \n",
       "EXTEND  =                    T / This file may contain FITS extensions          \n",
       "EQUINOX =        2000.00000000 / Mean equinox                                   \n",
       "MJD-OBS =   5.385300000000E+04 / Modified Julian date at start                  \n",
       "RADESYS = 'ICRS    '           / Astrometric system                             \n",
       "CTYPE1  = 'RA---TAN'           / WCS projection type for this axis              \n",
       "CUNIT1  = 'degree  '           / Axis unit                                      \n",
       "CRVAL1  =       194.8442593702                                                  \n",
       "CRPIX1  =                3836.                                                  \n",
       "CD1_1   =  -5.608300125459E-05 / Linear projection matrix                       \n",
       "CD1_2   =   0.000000000000E+00 / Linear projection matrix                       \n",
       "CTYPE2  = 'DEC--TAN'           / WCS projection type for this axis              \n",
       "CUNIT2  = 'degree  '           / Axis unit                                      \n",
       "CRVAL2  =       27.61155039976                                                  \n",
       "CRPIX2  =                3951.                                                  \n",
       "CD2_1   =   0.000000000000E+00 / Linear projection matrix                       \n",
       "CD2_2   =   5.608300125459E-05 / Linear projection matrix                       \n",
       "EXPTIME =   4.566000000000E+04 / Maximum equivalent exposure time (s)           \n",
       "GAIN    =   8.793900600534E+00 / Maximum equivalent gain (e-/ADU)               \n",
       "SATURATE=   7.244652898765E+04 / Saturation Level (ADU)                         \n",
       "COMMENT                                                                         \n",
       "SOFTNAME= 'SWarp   '           / The software that processed those data         \n",
       "SOFTVERS= '2.38.0  '           / Version of the software                        \n",
       "SOFTDATE= '2019-01-24'         / Release date of the software                   \n",
       "SOFTAUTH= '2010-2012 IAP/CNRS/UPMC' / Maintainer of the software                \n",
       "SOFTINST= 'IAP  http://www.iap.fr' / Institute                                  \n",
       "COMMENT                                                                         \n",
       "AUTHOR  = 'yshirasa'           / Who ran the software                           \n",
       "ORIGIN  = 'grid20.vo.nao.ac.jp' / Where it was done                             \n",
       "DATE    = '2020-10-10T10:22:14' / When it was started (GMT)                     \n",
       "COMBINET= 'MEDIAN  '           / COMBINE_TYPE config parameter for SWarp        \n",
       "COMMENT                                                                         \n",
       "COMMENT  Propagated FITS keywords                                               \n",
       "FILTER01= 'N-A-L671'           / Filter name/ID                                 \n",
       "COMMENT                                                                         \n",
       "COMMENT  Axis-dependent config parameters                                       \n",
       "RESAMPT1= 'LANCZOS3'           / RESAMPLING_TYPE config parameter               \n",
       "CENTERT1= 'ALL     '           / CENTER_TYPE config parameter                   \n",
       "PSCALET1= 'MEDIAN  '           / PIXELSCALE_TYPE config parameter               \n",
       "RESAMPT2= 'LANCZOS3'           / RESAMPLING_TYPE config parameter               \n",
       "CENTERT2= 'ALL     '           / CENTER_TYPE config parameter                   \n",
       "PSCALET2= 'MEDIAN  '           / PIXELSCALE_TYPE config parameter               \n",
       "IGNRVAL =              -32768. / PIXVALUE TO BE IGNORED                         \n",
       "J_GID   = 'A       '           / MOSAIC GROUP ID                                \n",
       "J_MAGZRP=              32.8761                                                  \n",
       "J_MAGZRN=                  191                                                  \n",
       "J_MAGZRS=             0.088536                                                  \n",
       "J_IGNFRC=            0.0641983                                                  \n",
       "FRAMEID = 'SUPM19E9B88002F20500'                                                "
      ]
     },
     "execution_count": 7,
     "metadata": {},
     "output_type": "execute_result"
    }
   ],
   "source": [
    "header"
   ]
  },
  {
   "cell_type": "code",
   "execution_count": 9,
   "id": "c6020b2f",
   "metadata": {},
   "outputs": [
    {
     "data": {
      "text/plain": [
       "<matplotlib.image.AxesImage at 0x14f0d71e1f0>"
      ]
     },
     "execution_count": 9,
     "metadata": {},
     "output_type": "execute_result"
    },
    {
     "name": "stderr",
     "output_type": "stream",
     "text": [
      "Traceback (most recent call last):\n",
      "  File \"C:\\Users\\willi\\anaconda3\\lib\\site-packages\\matplotlib\\backends\\backend_qt5.py\", line 480, in _draw_idle\n",
      "    self.draw()\n",
      "  File \"C:\\Users\\willi\\anaconda3\\lib\\site-packages\\matplotlib\\backends\\backend_agg.py\", line 407, in draw\n",
      "    self.figure.draw(self.renderer)\n",
      "  File \"C:\\Users\\willi\\anaconda3\\lib\\site-packages\\matplotlib\\artist.py\", line 41, in draw_wrapper\n",
      "    return draw(artist, renderer, *args, **kwargs)\n",
      "  File \"C:\\Users\\willi\\anaconda3\\lib\\site-packages\\matplotlib\\figure.py\", line 1863, in draw\n",
      "    mimage._draw_list_compositing_images(\n",
      "  File \"C:\\Users\\willi\\anaconda3\\lib\\site-packages\\matplotlib\\image.py\", line 131, in _draw_list_compositing_images\n",
      "    a.draw(renderer)\n",
      "  File \"C:\\Users\\willi\\anaconda3\\lib\\site-packages\\matplotlib\\artist.py\", line 41, in draw_wrapper\n",
      "    return draw(artist, renderer, *args, **kwargs)\n",
      "  File \"C:\\Users\\willi\\anaconda3\\lib\\site-packages\\matplotlib\\cbook\\deprecation.py\", line 411, in wrapper\n",
      "    return func(*inner_args, **inner_kwargs)\n",
      "  File \"C:\\Users\\willi\\anaconda3\\lib\\site-packages\\matplotlib\\axes\\_base.py\", line 2747, in draw\n",
      "    mimage._draw_list_compositing_images(renderer, self, artists)\n",
      "  File \"C:\\Users\\willi\\anaconda3\\lib\\site-packages\\matplotlib\\image.py\", line 131, in _draw_list_compositing_images\n",
      "    a.draw(renderer)\n",
      "  File \"C:\\Users\\willi\\anaconda3\\lib\\site-packages\\matplotlib\\artist.py\", line 41, in draw_wrapper\n",
      "    return draw(artist, renderer, *args, **kwargs)\n",
      "  File \"C:\\Users\\willi\\anaconda3\\lib\\site-packages\\matplotlib\\image.py\", line 643, in draw\n",
      "    im, l, b, trans = self.make_image(\n",
      "  File \"C:\\Users\\willi\\anaconda3\\lib\\site-packages\\matplotlib\\image.py\", line 928, in make_image\n",
      "    return self._make_image(self._A, bbox, transformed_bbox, clip,\n",
      "  File \"C:\\Users\\willi\\anaconda3\\lib\\site-packages\\matplotlib\\image.py\", line 547, in _make_image\n",
      "    output = self.norm(resampled_masked)\n",
      "  File \"C:\\Users\\willi\\anaconda3\\lib\\site-packages\\matplotlib\\colors.py\", line 1192, in __call__\n",
      "    self._check_vmin_vmax()\n",
      "  File \"C:\\Users\\willi\\anaconda3\\lib\\site-packages\\matplotlib\\colors.py\", line 1181, in _check_vmin_vmax\n",
      "    raise ValueError(\"minvalue must be positive\")\n",
      "ValueError: minvalue must be positive\n",
      "Traceback (most recent call last):\n",
      "  File \"C:\\Users\\willi\\anaconda3\\lib\\site-packages\\matplotlib\\backends\\backend_qt5.py\", line 480, in _draw_idle\n",
      "    self.draw()\n",
      "  File \"C:\\Users\\willi\\anaconda3\\lib\\site-packages\\matplotlib\\backends\\backend_agg.py\", line 407, in draw\n",
      "    self.figure.draw(self.renderer)\n",
      "  File \"C:\\Users\\willi\\anaconda3\\lib\\site-packages\\matplotlib\\artist.py\", line 41, in draw_wrapper\n",
      "    return draw(artist, renderer, *args, **kwargs)\n",
      "  File \"C:\\Users\\willi\\anaconda3\\lib\\site-packages\\matplotlib\\figure.py\", line 1863, in draw\n",
      "    mimage._draw_list_compositing_images(\n",
      "  File \"C:\\Users\\willi\\anaconda3\\lib\\site-packages\\matplotlib\\image.py\", line 131, in _draw_list_compositing_images\n",
      "    a.draw(renderer)\n",
      "  File \"C:\\Users\\willi\\anaconda3\\lib\\site-packages\\matplotlib\\artist.py\", line 41, in draw_wrapper\n",
      "    return draw(artist, renderer, *args, **kwargs)\n",
      "  File \"C:\\Users\\willi\\anaconda3\\lib\\site-packages\\matplotlib\\cbook\\deprecation.py\", line 411, in wrapper\n",
      "    return func(*inner_args, **inner_kwargs)\n",
      "  File \"C:\\Users\\willi\\anaconda3\\lib\\site-packages\\matplotlib\\axes\\_base.py\", line 2747, in draw\n",
      "    mimage._draw_list_compositing_images(renderer, self, artists)\n",
      "  File \"C:\\Users\\willi\\anaconda3\\lib\\site-packages\\matplotlib\\image.py\", line 131, in _draw_list_compositing_images\n",
      "    a.draw(renderer)\n",
      "  File \"C:\\Users\\willi\\anaconda3\\lib\\site-packages\\matplotlib\\artist.py\", line 41, in draw_wrapper\n",
      "    return draw(artist, renderer, *args, **kwargs)\n",
      "  File \"C:\\Users\\willi\\anaconda3\\lib\\site-packages\\matplotlib\\image.py\", line 643, in draw\n",
      "    im, l, b, trans = self.make_image(\n",
      "  File \"C:\\Users\\willi\\anaconda3\\lib\\site-packages\\matplotlib\\image.py\", line 928, in make_image\n",
      "    return self._make_image(self._A, bbox, transformed_bbox, clip,\n",
      "  File \"C:\\Users\\willi\\anaconda3\\lib\\site-packages\\matplotlib\\image.py\", line 547, in _make_image\n",
      "    output = self.norm(resampled_masked)\n",
      "  File \"C:\\Users\\willi\\anaconda3\\lib\\site-packages\\matplotlib\\colors.py\", line 1192, in __call__\n",
      "    self._check_vmin_vmax()\n",
      "  File \"C:\\Users\\willi\\anaconda3\\lib\\site-packages\\matplotlib\\colors.py\", line 1181, in _check_vmin_vmax\n",
      "    raise ValueError(\"minvalue must be positive\")\n",
      "ValueError: minvalue must be positive\n",
      "Traceback (most recent call last):\n",
      "  File \"C:\\Users\\willi\\anaconda3\\lib\\site-packages\\matplotlib\\backends\\backend_qt5.py\", line 480, in _draw_idle\n",
      "    self.draw()\n",
      "  File \"C:\\Users\\willi\\anaconda3\\lib\\site-packages\\matplotlib\\backends\\backend_agg.py\", line 407, in draw\n",
      "    self.figure.draw(self.renderer)\n",
      "  File \"C:\\Users\\willi\\anaconda3\\lib\\site-packages\\matplotlib\\artist.py\", line 41, in draw_wrapper\n",
      "    return draw(artist, renderer, *args, **kwargs)\n",
      "  File \"C:\\Users\\willi\\anaconda3\\lib\\site-packages\\matplotlib\\figure.py\", line 1863, in draw\n",
      "    mimage._draw_list_compositing_images(\n",
      "  File \"C:\\Users\\willi\\anaconda3\\lib\\site-packages\\matplotlib\\image.py\", line 131, in _draw_list_compositing_images\n",
      "    a.draw(renderer)\n",
      "  File \"C:\\Users\\willi\\anaconda3\\lib\\site-packages\\matplotlib\\artist.py\", line 41, in draw_wrapper\n",
      "    return draw(artist, renderer, *args, **kwargs)\n",
      "  File \"C:\\Users\\willi\\anaconda3\\lib\\site-packages\\matplotlib\\cbook\\deprecation.py\", line 411, in wrapper\n",
      "    return func(*inner_args, **inner_kwargs)\n",
      "  File \"C:\\Users\\willi\\anaconda3\\lib\\site-packages\\matplotlib\\axes\\_base.py\", line 2747, in draw\n",
      "    mimage._draw_list_compositing_images(renderer, self, artists)\n",
      "  File \"C:\\Users\\willi\\anaconda3\\lib\\site-packages\\matplotlib\\image.py\", line 131, in _draw_list_compositing_images\n",
      "    a.draw(renderer)\n",
      "  File \"C:\\Users\\willi\\anaconda3\\lib\\site-packages\\matplotlib\\artist.py\", line 41, in draw_wrapper\n",
      "    return draw(artist, renderer, *args, **kwargs)\n",
      "  File \"C:\\Users\\willi\\anaconda3\\lib\\site-packages\\matplotlib\\image.py\", line 643, in draw\n",
      "    im, l, b, trans = self.make_image(\n",
      "  File \"C:\\Users\\willi\\anaconda3\\lib\\site-packages\\matplotlib\\image.py\", line 928, in make_image\n",
      "    return self._make_image(self._A, bbox, transformed_bbox, clip,\n",
      "  File \"C:\\Users\\willi\\anaconda3\\lib\\site-packages\\matplotlib\\image.py\", line 547, in _make_image\n",
      "    output = self.norm(resampled_masked)\n",
      "  File \"C:\\Users\\willi\\anaconda3\\lib\\site-packages\\matplotlib\\colors.py\", line 1192, in __call__\n",
      "    self._check_vmin_vmax()\n",
      "  File \"C:\\Users\\willi\\anaconda3\\lib\\site-packages\\matplotlib\\colors.py\", line 1181, in _check_vmin_vmax\n",
      "    raise ValueError(\"minvalue must be positive\")\n",
      "ValueError: minvalue must be positive\n"
     ]
    }
   ],
   "source": [
    "plt.imshow(image, norm=LogNorm())"
   ]
  }
 ],
 "metadata": {
  "kernelspec": {
   "display_name": "Python 3",
   "language": "python",
   "name": "python3"
  },
  "language_info": {
   "codemirror_mode": {
    "name": "ipython",
    "version": 3
   },
   "file_extension": ".py",
   "mimetype": "text/x-python",
   "name": "python",
   "nbconvert_exporter": "python",
   "pygments_lexer": "ipython3",
   "version": "3.8.8"
  }
 },
 "nbformat": 4,
 "nbformat_minor": 5
}
